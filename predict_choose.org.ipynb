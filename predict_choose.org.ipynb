{
 "cells": [
  {
   "cell_type": "code",
   "execution_count": 1,
   "metadata": {},
   "outputs": [],
   "source": [
    "import numpy as np\n",
    "import pandas as pd\n",
    "import os\n",
    "\n",
    "import matplotlib\n",
    "#matplotlib.use('agg')\n",
    "import matplotlib.pyplot as plt\n",
    "import seaborn as sns\n",
    "\n",
    "import plotly\n",
    "plotly.tools.set_credentials_file(username='vvr', api_key='Ker155UU70wk3Ccz6iyM')\n",
    "import plotly.plotly as py\n",
    "import plotly.graph_objs as go\n",
    "\n",
    "color = sns.color_palette(\"husl\", 8)\n",
    "import sklearn\n",
    "from sklearn.preprocessing import LabelEncoder\n",
    "from sklearn.feature_extraction.text import TfidfVectorizer\n",
    "\n",
    "\n",
    "%matplotlib inline\n",
    "\n",
    "import squarify\n",
    "\n",
    "import nltk\n",
    "from nltk.corpus import stopwords\n",
    "from nltk import sent_tokenize, word_tokenize\n",
    "#from wordcloud import WordCloud, STOPWORDS\n",
    "from collections import Counter\n",
    "from nltk.tokenize import RegexpTokenizer\n",
    "from stop_words import get_stop_words\n",
    "from nltk.corpus import stopwords\n",
    "from nltk import sent_tokenize, word_tokenize\n",
    "import re"
   ]
  },
  {
   "cell_type": "code",
   "execution_count": 2,
   "metadata": {},
   "outputs": [
    {
     "name": "stderr",
     "output_type": "stream",
     "text": [
      "c:\\users\\admin\\appdata\\local\\programs\\python\\python36\\lib\\site-packages\\IPython\\core\\interactiveshell.py:2728: DtypeWarning:\n",
      "\n",
      "Columns (11,12) have mixed types. Specify dtype option on import or set low_memory=False.\n",
      "\n"
     ]
    },
    {
     "data": {
      "text/html": [
       "<div>\n",
       "<style>\n",
       "    .dataframe thead tr:only-child th {\n",
       "        text-align: right;\n",
       "    }\n",
       "\n",
       "    .dataframe thead th {\n",
       "        text-align: left;\n",
       "    }\n",
       "\n",
       "    .dataframe tbody tr th {\n",
       "        vertical-align: top;\n",
       "    }\n",
       "</style>\n",
       "<table border=\"1\" class=\"dataframe\">\n",
       "  <thead>\n",
       "    <tr style=\"text-align: right;\">\n",
       "      <th></th>\n",
       "      <th>id</th>\n",
       "      <th>teacher_id</th>\n",
       "      <th>teacher_prefix</th>\n",
       "      <th>school_state</th>\n",
       "      <th>project_submitted_datetime</th>\n",
       "      <th>project_grade_category</th>\n",
       "      <th>project_subject_categories</th>\n",
       "      <th>project_subject_subcategories</th>\n",
       "      <th>project_title</th>\n",
       "      <th>project_essay_1</th>\n",
       "      <th>project_essay_2</th>\n",
       "      <th>project_essay_3</th>\n",
       "      <th>project_essay_4</th>\n",
       "      <th>project_resource_summary</th>\n",
       "      <th>teacher_number_of_previously_posted_projects</th>\n",
       "      <th>project_is_approved</th>\n",
       "    </tr>\n",
       "  </thead>\n",
       "  <tbody>\n",
       "    <tr>\n",
       "      <th>16761</th>\n",
       "      <td>p217525</td>\n",
       "      <td>b9cf98d322001d5b0ad0312c0c4db4f2</td>\n",
       "      <td>Mrs.</td>\n",
       "      <td>IN</td>\n",
       "      <td>2016-09-24 11:26:27</td>\n",
       "      <td>Grades PreK-2</td>\n",
       "      <td>Health &amp; Sports</td>\n",
       "      <td>Gym &amp; Fitness, Health &amp; Wellness</td>\n",
       "      <td>On The Move In Our STEM Classroom</td>\n",
       "      <td>My students are 5 and 6 years old and love to ...</td>\n",
       "      <td>My students love the fact that we are a STEM s...</td>\n",
       "      <td>NaN</td>\n",
       "      <td>NaN</td>\n",
       "      <td>My students need tools like virtual reality eq...</td>\n",
       "      <td>3</td>\n",
       "      <td>1</td>\n",
       "    </tr>\n",
       "    <tr>\n",
       "      <th>34254</th>\n",
       "      <td>p259271</td>\n",
       "      <td>4b388ba2c0118d1a5191f1dc4dd008a8</td>\n",
       "      <td>Mrs.</td>\n",
       "      <td>WA</td>\n",
       "      <td>2016-07-26 14:54:41</td>\n",
       "      <td>Grades PreK-2</td>\n",
       "      <td>Applied Learning, Literacy &amp; Language</td>\n",
       "      <td>Early Development, Literacy</td>\n",
       "      <td>Tools for Multisensory Learning</td>\n",
       "      <td>I work with first grade students in a high pov...</td>\n",
       "      <td>Your donations to this project will help my st...</td>\n",
       "      <td>NaN</td>\n",
       "      <td>NaN</td>\n",
       "      <td>My students need kinetic sensory sand and cont...</td>\n",
       "      <td>23</td>\n",
       "      <td>1</td>\n",
       "    </tr>\n",
       "    <tr>\n",
       "      <th>18703</th>\n",
       "      <td>p214606</td>\n",
       "      <td>f5b3aa36620afbed67135d8dc7420a94</td>\n",
       "      <td>Ms.</td>\n",
       "      <td>NY</td>\n",
       "      <td>2016-06-08 18:13:30</td>\n",
       "      <td>Grades 3-5</td>\n",
       "      <td>Health &amp; Sports, Literacy &amp; Language</td>\n",
       "      <td>Health &amp; Wellness, Literacy</td>\n",
       "      <td>New Year...Much Needed Tools To Get Started</td>\n",
       "      <td>My classroom demographic is diverse. My studen...</td>\n",
       "      <td>Students will be able to use colored pencils a...</td>\n",
       "      <td>NaN</td>\n",
       "      <td>NaN</td>\n",
       "      <td>My students need a dry erase easel board, card...</td>\n",
       "      <td>66</td>\n",
       "      <td>1</td>\n",
       "    </tr>\n",
       "  </tbody>\n",
       "</table>\n",
       "</div>"
      ],
      "text/plain": [
       "            id                        teacher_id teacher_prefix school_state  \\\n",
       "16761  p217525  b9cf98d322001d5b0ad0312c0c4db4f2           Mrs.           IN   \n",
       "34254  p259271  4b388ba2c0118d1a5191f1dc4dd008a8           Mrs.           WA   \n",
       "18703  p214606  f5b3aa36620afbed67135d8dc7420a94            Ms.           NY   \n",
       "\n",
       "      project_submitted_datetime project_grade_category  \\\n",
       "16761        2016-09-24 11:26:27          Grades PreK-2   \n",
       "34254        2016-07-26 14:54:41          Grades PreK-2   \n",
       "18703        2016-06-08 18:13:30             Grades 3-5   \n",
       "\n",
       "                  project_subject_categories  \\\n",
       "16761                        Health & Sports   \n",
       "34254  Applied Learning, Literacy & Language   \n",
       "18703   Health & Sports, Literacy & Language   \n",
       "\n",
       "          project_subject_subcategories  \\\n",
       "16761  Gym & Fitness, Health & Wellness   \n",
       "34254       Early Development, Literacy   \n",
       "18703       Health & Wellness, Literacy   \n",
       "\n",
       "                                     project_title  \\\n",
       "16761            On The Move In Our STEM Classroom   \n",
       "34254              Tools for Multisensory Learning   \n",
       "18703  New Year...Much Needed Tools To Get Started   \n",
       "\n",
       "                                         project_essay_1  \\\n",
       "16761  My students are 5 and 6 years old and love to ...   \n",
       "34254  I work with first grade students in a high pov...   \n",
       "18703  My classroom demographic is diverse. My studen...   \n",
       "\n",
       "                                         project_essay_2 project_essay_3  \\\n",
       "16761  My students love the fact that we are a STEM s...             NaN   \n",
       "34254  Your donations to this project will help my st...             NaN   \n",
       "18703  Students will be able to use colored pencils a...             NaN   \n",
       "\n",
       "      project_essay_4                           project_resource_summary  \\\n",
       "16761             NaN  My students need tools like virtual reality eq...   \n",
       "34254             NaN  My students need kinetic sensory sand and cont...   \n",
       "18703             NaN  My students need a dry erase easel board, card...   \n",
       "\n",
       "       teacher_number_of_previously_posted_projects  project_is_approved  \n",
       "16761                                             3                    1  \n",
       "34254                                            23                    1  \n",
       "18703                                            66                    1  "
      ]
     },
     "execution_count": 2,
     "metadata": {},
     "output_type": "execute_result"
    }
   ],
   "source": [
    "data = pd.read_csv('train.csv')\n",
    "test = pd.read_csv('test.csv')\n",
    "data.append(test, ignore_index=True)\n",
    "data.sample(3)"
   ]
  },
  {
   "cell_type": "code",
   "execution_count": 3,
   "metadata": {},
   "outputs": [],
   "source": [
    "data['count_1'] = data['project_essay_1'].apply(lambda x : len(str(x).split(' ')))\n",
    "data['count_2'] = data['project_essay_2'].apply(lambda x : len(str(x).split(' ')))\n",
    "data['count_3'] = data['project_essay_3'].apply(lambda x : len(str(x).split(' ')))\n",
    "data['count_4'] = data['project_essay_4'].apply(lambda x : len(str(x).split(' ')))\n",
    "data['count_s'] = data['project_resource_summary'].apply(lambda x : len(str(x).split(' ')))"
   ]
  },
  {
   "cell_type": "code",
   "execution_count": 4,
   "metadata": {},
   "outputs": [],
   "source": [
    "data['project_essay_3'].fillna('UK',inplace = True)\n",
    "data['project_essay_4'].fillna('UK',inplace = True)"
   ]
  },
  {
   "cell_type": "code",
   "execution_count": 5,
   "metadata": {},
   "outputs": [],
   "source": [
    "data['essay'] = data['project_essay_1'] + data['project_essay_2'] + data['project_essay_3'] +data['project_essay_4'] + data['project_resource_summary']\n"
   ]
  },
  {
   "cell_type": "code",
   "execution_count": 6,
   "metadata": {},
   "outputs": [],
   "source": [
    "data.drop(['project_essay_1', 'project_essay_2', 'project_essay_3', 'project_essay_4','project_resource_summary'], axis =1, inplace = True)\n"
   ]
  },
  {
   "cell_type": "code",
   "execution_count": 7,
   "metadata": {},
   "outputs": [],
   "source": [
    "def pir(data):\n",
    "    t = data.text.str.split(expand=True).stack()\n",
    "    return t.loc[t.str.len() >= 4].groupby(level=0).apply(' '.join)\n",
    "data['essay'] = data['essay'].str.findall('\\w{4,}').str.join(' ')\n",
    "#data.sample()"
   ]
  },
  {
   "cell_type": "code",
   "execution_count": 8,
   "metadata": {},
   "outputs": [],
   "source": [
    "stop = stopwords.words('english')\n",
    "#data['essay'].str.findall('\\w{4,}').str.join(' ')\n",
    "data['essay'] = data['essay'].apply(lambda x: ' '.join([word for word in x.split() if word not in (stop)]))\n",
    "#data['essay'].sample()"
   ]
  },
  {
   "cell_type": "code",
   "execution_count": 9,
   "metadata": {},
   "outputs": [],
   "source": [
    "data['count'] = data['essay'].str.len()"
   ]
  },
  {
   "cell_type": "code",
   "execution_count": 10,
   "metadata": {},
   "outputs": [],
   "source": [
    "data['project_submitted_datetime'] = pd.to_datetime(data['project_submitted_datetime']) \n",
    "data['project_submitted_datetime'] = data['project_submitted_datetime'].map(lambda x: x.strftime('%Y-%m-%d'))\n"
   ]
  },
  {
   "cell_type": "code",
   "execution_count": 11,
   "metadata": {},
   "outputs": [],
   "source": [
    "freq = pd.Series(' '.join(data['essay']).split()).value_counts()"
   ]
  },
  {
   "cell_type": "code",
   "execution_count": 12,
   "metadata": {},
   "outputs": [],
   "source": [
    "freq2 = freq.tail(65000)\n",
    "data['essay'] = data['essay'].apply(lambda x: ' '.join([word for word in x.split() if word not in (freq2)]))"
   ]
  },
  {
   "cell_type": "code",
   "execution_count": 13,
   "metadata": {},
   "outputs": [
    {
     "data": {
      "text/plain": [
       "0    Most kindergarten students come income househo...\n",
       "1    elementary school culturally rich school diver...\n",
       "2    Hello name teach grade Ascent Academy Utah won...\n",
       "3    students greatest students socially economical...\n",
       "4    students athletes students interested health p...\n",
       "Name: essay, dtype: object"
      ]
     },
     "execution_count": 13,
     "metadata": {},
     "output_type": "execute_result"
    }
   ],
   "source": [
    "from textblob import TextBlob\n",
    "from textblob import Word\n",
    "#nltk.download('wordnet')\n",
    "data['essay'].apply(lambda x : ' '.join([Word(word).lemmatize() for word in x.split()]))\n",
    "data['essay'].head()"
   ]
  },
  {
   "cell_type": "code",
   "execution_count": 24,
   "metadata": {},
   "outputs": [
    {
     "data": {
      "text/plain": [
       "\"\\ndata = data.drop(['project_is_approved','project_title'], axis =1)\\ny = data['project_is_approved']\\n\""
      ]
     },
     "execution_count": 24,
     "metadata": {},
     "output_type": "execute_result"
    }
   ],
   "source": [
    "'''\n",
    "data = data.drop(['project_is_approved','project_title'], axis =1)\n",
    "y = data['project_is_approved']\n",
    "'''"
   ]
  },
  {
   "cell_type": "code",
   "execution_count": 25,
   "metadata": {},
   "outputs": [],
   "source": [
    "data.drop('project_title', inplace  = True, axis =1)"
   ]
  },
  {
   "cell_type": "code",
   "execution_count": 15,
   "metadata": {},
   "outputs": [],
   "source": [
    "from sklearn.model_selection import train_test_split\n",
    "X_train, X_test, y_train, y_test = train_test_split(X, y, test_size=0.33, random_state=42)"
   ]
  },
  {
   "cell_type": "code",
   "execution_count": 26,
   "metadata": {},
   "outputs": [
    {
     "data": {
      "text/plain": [
       "\"\\n\\ncols = [\\n    'teacher_id', \\n    'teacher_prefix', \\n    'school_state', \\n    'project_grade_category', \\n    'project_subject_categories', \\n    'project_subject_subcategories'\\n]\\n\\nfor c in (cols):\\n    le = LabelEncoder()\\n    le.fit(data[c].astype(str))\\n    \\n    X_train[c] = le.transform(X_train[c].astype(str))\\n    X_test[c] = le.transform(X_test[c].astype(str))\\n    \\n\\n\""
      ]
     },
     "execution_count": 26,
     "metadata": {},
     "output_type": "execute_result"
    }
   ],
   "source": [
    "\n",
    "# Label encoding\n",
    "#copied\n",
    "#thanks\n",
    "#https://www.kaggle.com/jmbull/xtra-credit-xgb-lgb-w-tfidf-feature-stacking\n",
    "\n",
    "\n",
    "cols = [\n",
    "    'teacher_id', \n",
    "    'teacher_prefix', \n",
    "    'school_state', \n",
    "    'project_grade_category', \n",
    "    'project_subject_categories', \n",
    "    'project_subject_subcategories'\n",
    "]\n",
    "\n",
    "for c in (cols):\n",
    "    le = LabelEncoder()\n",
    "    le.fit(data[c].astype(str))\n",
    "    \n",
    "    X_train[c] = le.transform(X_train[c].astype(str))\n",
    "    X_test[c] = le.transform(X_test[c].astype(str))\n",
    "    \n",
    "\n"
   ]
  },
  {
   "cell_type": "code",
   "execution_count": 27,
   "metadata": {},
   "outputs": [],
   "source": [
    "# Label encoding\n",
    "#copied\n",
    "#thanks\n",
    "#https://www.kaggle.com/jmbull/xtra-credit-xgb-lgb-w-tfidf-feature-stacking\n",
    "'''\n",
    "\n",
    "cols = [\n",
    "    'teacher_id', \n",
    "    'teacher_prefix', \n",
    "    'school_state', \n",
    "    'project_grade_category', \n",
    "    'project_subject_categories', \n",
    "    'project_subject_subcategories'\n",
    "]\n",
    "\n",
    "for c in (cols):\n",
    "    le = LabelEncoder()\n",
    "    le.fit(data[c].astype(str))\n",
    "    \n",
    "    data[c] = le.transform(data[c].astype(str))\n",
    "    #data[c] = le.transform(data[c].astype(str))\n",
    "    \n",
    "'''"
   ]
  },
  {
   "cell_type": "code",
   "execution_count": 28,
   "metadata": {},
   "outputs": [
    {
     "data": {
      "text/plain": [
       "\"\\nfrom sklearn.feature_extraction.text import TfidfVectorizer\\nv = TfidfVectorizer()\\nX_train['essay'] =  v.fit_transform(X_train['essay'])\\nX_test['essay']  = v.fit_transform(X_test['essay'])\\n\""
      ]
     },
     "execution_count": 28,
     "metadata": {},
     "output_type": "execute_result"
    }
   ],
   "source": [
    "'''\n",
    "from sklearn.feature_extraction.text import TfidfVectorizer\n",
    "v = TfidfVectorizer()\n",
    "X_train['essay'] =  v.fit_transform(X_train['essay'])\n",
    "X_test['essay']  = v.fit_transform(X_test['essay'])\n",
    "'''"
   ]
  },
  {
   "cell_type": "code",
   "execution_count": 29,
   "metadata": {},
   "outputs": [],
   "source": [
    "from sklearn.feature_extraction.text import TfidfVectorizer\n",
    "v = TfidfVectorizer()\n",
    "data['essay'] =  v.fit_transform(data['essay'])\n",
    "#X_test['essay']  = v.fit_transform(X_test['essay'])"
   ]
  },
  {
   "cell_type": "code",
   "execution_count": null,
   "metadata": {},
   "outputs": [],
   "source": []
  },
  {
   "cell_type": "code",
   "execution_count": 36,
   "metadata": {},
   "outputs": [
    {
     "data": {
      "text/plain": [
       "\"\\ntarget = 'project_is_approved'\\nIDcol = 'id'\\n\\ndef modelfit(alg, dtrain, predictors,useTrainCV=True, cv_folds=5, early_stopping_rounds=50):\\n    \\n    if useTrainCV:\\n        xgb_param = alg.get_xgb_params()\\n        xgtrain = xgb.DMatrix(dtrain[predictors].values, label=dtrain[target].values)\\n        cvresult = xgb.cv(xgb_param, xgtrain, num_boost_round=alg.get_params()['n_estimators'], nfold=cv_folds,\\n            metrics='auc', early_stopping_rounds=early_stopping_rounds, show_progress=False)\\n        alg.set_params(n_estimators=cvresult.shape[0])\\n    \\n    #Fit the algorithm on the data\\n    alg.fit(dtrain[predictors], dtrain['Disbursed'],eval_metric='auc')\\n        \\n    #Predict training set:\\n    dtrain_predictions = alg.predict(dtrain[predictors])\\n    dtrain_predprob = alg.predict_proba(dtrain[predictors])[:,1]\\n        \\n    #Print model report:\\n   \\n    print(metrics.accuracy_score(dtrain['Disbursed'].values, dtrain_predictions))\\n    print(metrics.roc_auc_score(dtrain['Disbursed'], dtrain_predprob))\\n    pd.Series(alg.booster().get_fscore()).sort_values(ascending=False)\\n\\n    \\nxgb1 = XGBClassifier(\\n learning_rate =0.1,\\n n_estimators=1000,\\n max_depth=5,\\n min_child_weight=1,\\n gamma=0,\\n subsample=0.8,\\n colsample_bytree=0.8,\\n objective= 'binary:logistic',\\n nthread=4,\\n scale_pos_weight=1,\\n seed=27)\\n\\npredictors = [x for x in X.columns if x not in ['project_is_approved','id']]\\nmodelfit(xgb1, data, predictors)\\n\\n\""
      ]
     },
     "execution_count": 36,
     "metadata": {},
     "output_type": "execute_result"
    }
   ],
   "source": [
    "import xgboost as xgb\n",
    "from xgboost.sklearn import XGBClassifier\n",
    "from sklearn import cross_validation, metrics\n",
    "from sklearn.grid_search import GridSearchCV\n",
    "'''\n",
    "target = 'project_is_approved'\n",
    "IDcol = 'id'\n",
    "\n",
    "def modelfit(alg, dtrain, predictors,useTrainCV=True, cv_folds=5, early_stopping_rounds=50):\n",
    "    \n",
    "    if useTrainCV:\n",
    "        xgb_param = alg.get_xgb_params()\n",
    "        xgtrain = xgb.DMatrix(dtrain[predictors].values, label=dtrain[target].values)\n",
    "        cvresult = xgb.cv(xgb_param, xgtrain, num_boost_round=alg.get_params()['n_estimators'], nfold=cv_folds,\n",
    "            metrics='auc', early_stopping_rounds=early_stopping_rounds, show_progress=False)\n",
    "        alg.set_params(n_estimators=cvresult.shape[0])\n",
    "    \n",
    "    #Fit the algorithm on the data\n",
    "    alg.fit(dtrain[predictors], dtrain['Disbursed'],eval_metric='auc')\n",
    "        \n",
    "    #Predict training set:\n",
    "    dtrain_predictions = alg.predict(dtrain[predictors])\n",
    "    dtrain_predprob = alg.predict_proba(dtrain[predictors])[:,1]\n",
    "        \n",
    "    #Print model report:\n",
    "   \n",
    "    print(metrics.accuracy_score(dtrain['Disbursed'].values, dtrain_predictions))\n",
    "    print(metrics.roc_auc_score(dtrain['Disbursed'], dtrain_predprob))\n",
    "    pd.Series(alg.booster().get_fscore()).sort_values(ascending=False)\n",
    "\n",
    "    \n",
    "xgb1 = XGBClassifier(\n",
    " learning_rate =0.1,\n",
    " n_estimators=1000,\n",
    " max_depth=5,\n",
    " min_child_weight=1,\n",
    " gamma=0,\n",
    " subsample=0.8,\n",
    " colsample_bytree=0.8,\n",
    " objective= 'binary:logistic',\n",
    " nthread=4,\n",
    " scale_pos_weight=1,\n",
    " seed=27)\n",
    "\n",
    "predictors = [x for x in X.columns if x not in ['project_is_approved','id']]\n",
    "modelfit(xgb1, data, predictors)\n",
    "\n",
    "'''"
   ]
  },
  {
   "cell_type": "code",
   "execution_count": 39,
   "metadata": {},
   "outputs": [
    {
     "name": "stderr",
     "output_type": "stream",
     "text": [
      "Exception ignored in: <bound method DMatrix.__del__ of <xgboost.core.DMatrix object at 0x00000263D0F98198>>\n",
      "Traceback (most recent call last):\n",
      "  File \"c:\\users\\admin\\appdata\\local\\programs\\python\\python36\\lib\\site-packages\\xgboost\\core.py\", line 368, in __del__\n",
      "    if self.handle is not None:\n",
      "AttributeError: 'DMatrix' object has no attribute 'handle'\n",
      "Exception ignored in: <bound method DMatrix.__del__ of <xgboost.core.DMatrix object at 0x00000263D10656D8>>\n",
      "Traceback (most recent call last):\n",
      "  File \"c:\\users\\admin\\appdata\\local\\programs\\python\\python36\\lib\\site-packages\\xgboost\\core.py\", line 368, in __del__\n",
      "    if self.handle is not None:\n",
      "AttributeError: 'DMatrix' object has no attribute 'handle'\n",
      "Exception ignored in: <bound method DMatrix.__del__ of <xgboost.core.DMatrix object at 0x00000263D1089208>>\n",
      "Traceback (most recent call last):\n",
      "  File \"c:\\users\\admin\\appdata\\local\\programs\\python\\python36\\lib\\site-packages\\xgboost\\core.py\", line 368, in __del__\n",
      "    if self.handle is not None:\n",
      "AttributeError: 'DMatrix' object has no attribute 'handle'\n",
      "Exception ignored in: <bound method DMatrix.__del__ of <xgboost.core.DMatrix object at 0x00000263D1170F28>>\n",
      "Traceback (most recent call last):\n",
      "  File \"c:\\users\\admin\\appdata\\local\\programs\\python\\python36\\lib\\site-packages\\xgboost\\core.py\", line 368, in __del__\n",
      "    if self.handle is not None:\n",
      "AttributeError: 'DMatrix' object has no attribute 'handle'\n"
     ]
    },
    {
     "data": {
      "text/plain": [
       "array([0.8989899 , 0.8       , 0.94987469, 0.8       , 0.9       ])"
      ]
     },
     "execution_count": 39,
     "metadata": {},
     "output_type": "execute_result"
    }
   ],
   "source": [
    "\n",
    "from sklearn.ensemble import RandomForestClassifier\n",
    "from sklearn.datasets import make_classification\n",
    "from sklearn.model_selection import cross_val_score\n",
    "\n",
    "X_train, y_train = make_classification()\n",
    "X_test, y_test = make_classification()\n",
    "clf = RandomForestClassifier(max_depth=6, random_state=0)\n",
    "clf.fit(X_train, y_train)\n",
    "predictions = clf.predict(X_test)\n",
    "\n",
    "\n",
    "\n",
    "from sklearn import metrics\n",
    "cross_val_score(clf, X_train, y_train, cv=5, scoring='f1_macro')\n",
    "\n"
   ]
  },
  {
   "cell_type": "code",
   "execution_count": 51,
   "metadata": {},
   "outputs": [
    {
     "data": {
      "text/plain": [
       "0.55"
      ]
     },
     "execution_count": 51,
     "metadata": {},
     "output_type": "execute_result"
    }
   ],
   "source": [
    "clf.score(X_test, y_test)"
   ]
  },
  {
   "cell_type": "code",
   "execution_count": 57,
   "metadata": {},
   "outputs": [
    {
     "name": "stderr",
     "output_type": "stream",
     "text": [
      "c:\\users\\admin\\appdata\\local\\programs\\python\\python36\\lib\\site-packages\\sklearn\\preprocessing\\label.py:151: DeprecationWarning:\n",
      "\n",
      "The truth value of an empty array is ambiguous. Returning False, but in future this will result in an error. Use `array.size > 0` to check that an array is not empty.\n",
      "\n",
      "c:\\users\\admin\\appdata\\local\\programs\\python\\python36\\lib\\site-packages\\sklearn\\preprocessing\\label.py:151: DeprecationWarning:\n",
      "\n",
      "The truth value of an empty array is ambiguous. Returning False, but in future this will result in an error. Use `array.size > 0` to check that an array is not empty.\n",
      "\n",
      "c:\\users\\admin\\appdata\\local\\programs\\python\\python36\\lib\\site-packages\\sklearn\\preprocessing\\label.py:151: DeprecationWarning:\n",
      "\n",
      "The truth value of an empty array is ambiguous. Returning False, but in future this will result in an error. Use `array.size > 0` to check that an array is not empty.\n",
      "\n",
      "c:\\users\\admin\\appdata\\local\\programs\\python\\python36\\lib\\site-packages\\sklearn\\preprocessing\\label.py:151: DeprecationWarning:\n",
      "\n",
      "The truth value of an empty array is ambiguous. Returning False, but in future this will result in an error. Use `array.size > 0` to check that an array is not empty.\n",
      "\n",
      "c:\\users\\admin\\appdata\\local\\programs\\python\\python36\\lib\\site-packages\\sklearn\\preprocessing\\label.py:151: DeprecationWarning:\n",
      "\n",
      "The truth value of an empty array is ambiguous. Returning False, but in future this will result in an error. Use `array.size > 0` to check that an array is not empty.\n",
      "\n"
     ]
    },
    {
     "data": {
      "text/plain": [
       "0.48"
      ]
     },
     "execution_count": 57,
     "metadata": {},
     "output_type": "execute_result"
    }
   ],
   "source": [
    "from xgboost.sklearn import XGBRegressor \n",
    "from xgboost.sklearn import XGBRegressor\n",
    "import scipy.stats as st\n",
    "\n",
    "xclas = XGBClassifier()  # and for classifier  \n",
    "xclas.fit(X_train, y_train)  \n",
    "xclas.predict(X_test)\n",
    "cross_val_score(xclas, X_train, y_train) \n",
    "xclas.score(X_test,y_test)"
   ]
  },
  {
   "cell_type": "code",
   "execution_count": 52,
   "metadata": {},
   "outputs": [
    {
     "data": {
      "text/plain": [
       "-0.07985375346596935"
      ]
     },
     "execution_count": 52,
     "metadata": {},
     "output_type": "execute_result"
    }
   ],
   "source": [
    "#print(clf.score(X_test, y_test))\n",
    "\n",
    "one_to_left = st.beta(10, 1)  \n",
    "from_zero_positive = st.expon(0, 50)\n",
    "\n",
    "params = {  \n",
    "    \"n_estimators\": st.randint(3, 40),\n",
    "    \"max_depth\": st.randint(3, 40),\n",
    "    \"learning_rate\": st.uniform(0.05, 0.4),\n",
    "    \"colsample_bytree\": one_to_left,\n",
    "    \"subsample\": one_to_left,\n",
    "    \"gamma\": st.uniform(0, 10),\n",
    "    'reg_alpha': from_zero_positive,\n",
    "    \"min_child_weight\": from_zero_positive,\n",
    "}\n",
    "\n",
    "xgbreg = XGBRegressor(nthreads=-1)  \n",
    "\n",
    "\n",
    "from sklearn.model_selection import RandomizedSearchCV\n",
    "\n",
    "gs = RandomizedSearchCV(xgbreg, params, n_jobs=1)  \n",
    "gs.fit(X_train, y_train)  \n",
    "#gs.best_model_  \n",
    "gs.predict(X_test) \n",
    "cross_val_score(gs, X_train, y_train)  \n",
    "gs.score(X_test, y_test)"
   ]
  },
  {
   "cell_type": "code",
   "execution_count": null,
   "metadata": {},
   "outputs": [],
   "source": [
    "'''\n",
    "import xgboost as xgb\n",
    "from xgboost.sklearn import XGBClassifier\n",
    "from sklearn import cross_validation, metrics\n",
    "from sklearn.grid_search import GridSearchCV\n",
    "\n",
    "def modelfit(alg, dtrain, predictors,useTrainCV=True, cv_folds=5, early_stopping_rounds=50):\n",
    "    \n",
    "    if useTrainCV:\n",
    "        xgb_param = alg.get_xgb_params()\n",
    "        xgtrain = xgb.DMatrix(dtrain[predictors].values, label=dtrain[target].values)\n",
    "        cvresult = xgb.cv(xgb_param, xgtrain, num_boost_round=alg.get_params()['n_estimators'], nfold=cv_folds,\n",
    "            metrics='auc', early_stopping_rounds=early_stopping_rounds, show_progress=False)\n",
    "        alg.set_params(n_estimators=cvresult.shape[0])\n",
    "    \n",
    "    #Fit the algorithm on the data\n",
    "    alg.fit(dtrain[predictors], dtrain['Disbursed'],eval_metric='auc')\n",
    "        \n",
    "    #Predict training set:\n",
    "    dtrain_predictions = alg.predict(dtrain[predictors])\n",
    "    dtrain_predprob = alg.predict_proba(dtrain[predictors])[:,1]\n",
    "        \n",
    "    #Print model report:\n",
    "   \n",
    "    print(metrics.accuracy_score(dtrain['Disbursed'].values, dtrain_predictions))\n",
    "    print(metrics.roc_auc_score(dtrain['Disbursed'], dtrain_predprob))\n",
    "\n",
    "\n",
    "    \n",
    "xgb1 = XGBClassifier(\n",
    " learning_rate =0.1,\n",
    " n_estimators=1000,\n",
    " max_depth=5,\n",
    " min_child_weight=1,\n",
    " gamma=0,\n",
    " subsample=0.8,\n",
    " colsample_bytree=0.8,\n",
    " objective= 'binary:logistic',\n",
    " nthread=4,\n",
    " scale_pos_weight=1,\n",
    " seed=27)\n",
    "\n",
    "#predictors = [x for x in X_train.columns if x not in ['ID']]\n",
    "modelfit(xgb1, X_train, y_train)\n",
    "'''"
   ]
  },
  {
   "cell_type": "code",
   "execution_count": null,
   "metadata": {},
   "outputs": [],
   "source": [
    "'''\n",
    "xgb1 = XGBClassifier(\n",
    " learning_rate =0.1,\n",
    " n_estimators=1000,\n",
    " max_depth=5,\n",
    " min_child_weight=1,\n",
    " gamma=0,\n",
    " subsample=0.8,\n",
    " colsample_bytree=0.8,\n",
    " objective= 'binary:logistic',\n",
    " nthread=4,\n",
    " scale_pos_weight=1,\n",
    " seed=27)\n",
    "\n",
    "#predictors = [x for x in X_train.columns if x not in ['ID']]\n",
    "modelfit(xgb1, X_train, y_train)\n",
    "'''"
   ]
  },
  {
   "cell_type": "code",
   "execution_count": null,
   "metadata": {},
   "outputs": [],
   "source": []
  }
 ],
 "metadata": {
  "kernelspec": {
   "display_name": "Python 3",
   "language": "python",
   "name": "python3"
  },
  "language_info": {
   "codemirror_mode": {
    "name": "ipython",
    "version": 3
   },
   "file_extension": ".py",
   "mimetype": "text/x-python",
   "name": "python",
   "nbconvert_exporter": "python",
   "pygments_lexer": "ipython3",
   "version": "3.6.2"
  }
 },
 "nbformat": 4,
 "nbformat_minor": 2
}
