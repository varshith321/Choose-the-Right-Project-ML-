{
 "cells": [
  {
   "cell_type": "code",
   "execution_count": 1,
   "metadata": {},
   "outputs": [],
   "source": [
    "import numpy as np\n",
    "import pandas as pd\n",
    "import os\n",
    "\n",
    "import matplotlib\n",
    "#matplotlib.use('agg')\n",
    "import matplotlib.pyplot as plt\n",
    "import seaborn as sns\n",
    "\n",
    "import plotly\n",
    "plotly.tools.set_credentials_file(username='vvr', api_key='Ker155UU70wk3Ccz6iyM')\n",
    "import plotly.plotly as py\n",
    "import plotly.graph_objs as go\n",
    "\n",
    "color = sns.color_palette(\"husl\", 8)\n",
    "import sklearn\n",
    "from sklearn.preprocessing import LabelEncoder\n",
    "from sklearn.feature_extraction.text import TfidfVectorizer\n",
    "\n",
    "\n",
    "%matplotlib inline\n",
    "\n",
    "import squarify\n",
    "\n",
    "import nltk\n",
    "from nltk.corpus import stopwords\n",
    "from nltk import sent_tokenize, word_tokenize\n",
    "#from wordcloud import WordCloud, STOPWORDS\n",
    "from collections import Counter\n",
    "from nltk.tokenize import RegexpTokenizer\n",
    "from stop_words import get_stop_words\n",
    "from nltk.corpus import stopwords\n",
    "from nltk import sent_tokenize, word_tokenize\n",
    "import re"
   ]
  },
  {
   "cell_type": "code",
   "execution_count": 2,
   "metadata": {},
   "outputs": [],
   "source": [
    "df= pd.read_csv('train.csv')"
   ]
  },
  {
   "cell_type": "code",
   "execution_count": 3,
   "metadata": {},
   "outputs": [],
   "source": [
    "df['project_essay_3'].fillna('unknown',inplace = True)\n",
    "df['project_essay_4'].fillna('unknown',inplace = True)\n",
    "\n",
    "#df.sample()"
   ]
  },
  {
   "cell_type": "markdown",
   "metadata": {},
   "source": [
    "Now with the Subject SubCategories"
   ]
  },
  {
   "cell_type": "markdown",
   "metadata": {},
   "source": [
    "Dealing with Project Title"
   ]
  },
  {
   "cell_type": "code",
   "execution_count": 4,
   "metadata": {},
   "outputs": [],
   "source": [
    "df['project_title'] = df['project_title'].apply(lambda x: \" \".join(x.lower() for x in x.split()))\n",
    "\n",
    "df['project_title'] = df['project_title'].map(lambda x: re.sub(r'\\W+', ' ', x))\n"
   ]
  },
  {
   "cell_type": "code",
   "execution_count": 5,
   "metadata": {},
   "outputs": [],
   "source": [
    "import nltk\n",
    "from nltk.stem.snowball import SnowballStemmer\n",
    "stemmer = SnowballStemmer(\"english\")\n",
    "\n",
    "from nltk.corpus import stopwords\n",
    "stop = stopwords.words('english')\n",
    "\n",
    "df['project_title'] = df.apply(lambda row: nltk.word_tokenize(row['project_title']), axis=1)\n",
    "\n",
    "df['project_title'] = df[\"project_title\"].apply(lambda x: [stemmer.stem(y) for y in x])\n",
    "\n",
    "df['project_title'] = df['project_title'].apply(lambda x: ' '.join([word for word in x if word not in (stop)]))"
   ]
  },
  {
   "cell_type": "code",
   "execution_count": 6,
   "metadata": {},
   "outputs": [],
   "source": [
    "df['project_title'] = df['project_title'].apply(lambda x: \" \".join(x if x.isalpha() else \" \" for x in x.split()))\n"
   ]
  },
  {
   "cell_type": "markdown",
   "metadata": {},
   "source": [
    "Adding Word Counts"
   ]
  },
  {
   "cell_type": "code",
   "execution_count": 7,
   "metadata": {},
   "outputs": [],
   "source": [
    "df['count_1'] = df['project_essay_1'].apply(lambda x : len(str(x).split(' ')))\n",
    "\n",
    "df['count_2'] = df['project_essay_2'].apply(lambda x : len(str(x).split(' ')))\n",
    "\n",
    "df['count_3'] = df['project_essay_3'].apply(lambda x : len(str(x).split(' ')))\n",
    "df['count_4'] = df['project_essay_4'].apply(lambda x : len(str(x).split(' ')))\n",
    "df['count_s'] = df['project_resource_summary'].apply(lambda x : len(str(x).split(' ')))"
   ]
  },
  {
   "cell_type": "markdown",
   "metadata": {},
   "source": [
    "Dealing with project_essay_1"
   ]
  },
  {
   "cell_type": "code",
   "execution_count": 8,
   "metadata": {},
   "outputs": [],
   "source": [
    "import re\n",
    "\n",
    "df['project_essay_1'] = df['project_essay_1'].map(lambda x: re.sub(r'\\W+', ' ', x))\n",
    "df['project_essay_1'] = df['project_essay_1'].apply(lambda x: \" \".join(x.lower() for x in x.split()))\n",
    "df['project_essay_1'] = df['project_essay_1'].str.findall('\\w{3,}').str.join(' ')\n",
    "#df['project_essay_1'] = df['project_essay_1'].str.findall('\\w{3,}').str.join(' ')"
   ]
  },
  {
   "cell_type": "code",
   "execution_count": 9,
   "metadata": {},
   "outputs": [],
   "source": [
    "import nltk\n",
    "df['project_essay_1'] = df.apply(lambda row: nltk.word_tokenize(row['project_essay_1']), axis=1)"
   ]
  },
  {
   "cell_type": "code",
   "execution_count": 10,
   "metadata": {},
   "outputs": [],
   "source": [
    "df['project_essay_1'] = df[\"project_essay_1\"].apply(lambda x: [stemmer.stem(y) for y in x])\n"
   ]
  },
  {
   "cell_type": "code",
   "execution_count": 11,
   "metadata": {},
   "outputs": [],
   "source": [
    "df['project_essay_1'] = df['project_essay_1'].apply(lambda x: ' '.join([word for word in x if word not in (stop)]))\n"
   ]
  },
  {
   "cell_type": "markdown",
   "metadata": {},
   "source": [
    "We will do the Project essay2"
   ]
  },
  {
   "cell_type": "code",
   "execution_count": 12,
   "metadata": {},
   "outputs": [],
   "source": [
    "\n",
    "df['project_essay_2'] = df['project_essay_2'].map(lambda x: re.sub(r'\\W+', ' ', x))\n",
    "df['project_essay_2'] = df['project_essay_2'].apply(lambda x: \" \".join(x.lower() for x in x.split()))\n",
    "df['project_essay_2'] = df['project_essay_2'].str.findall('\\w{3,}').str.join(' ')\n",
    "#df['project_essay_1'] = df['project_essay_1'].str.findall('\\w{3,}').str.join(' ')\n",
    "\n",
    "df['project_essay_2'] = df.apply(lambda row: nltk.word_tokenize(row['project_essay_2']), axis=1)\n",
    "\n",
    "df['project_essay_2'] = df[\"project_essay_2\"].apply(lambda x: [stemmer.stem(y) for y in x])\n",
    "\n",
    "df['project_essay_2'] = df['project_essay_2'].apply(lambda x: ' '.join([word for word in x if word not in (stop)]))\n"
   ]
  },
  {
   "cell_type": "code",
   "execution_count": 13,
   "metadata": {},
   "outputs": [],
   "source": [
    "df['project_submitted_datetime'] = pd.to_datetime(df['project_submitted_datetime']) \n",
    "df['project_submitted_datetime'] = df['project_submitted_datetime'].map(lambda x: x.strftime('%Y-%m-%d'))\n"
   ]
  },
  {
   "cell_type": "code",
   "execution_count": 14,
   "metadata": {},
   "outputs": [
    {
     "name": "stderr",
     "output_type": "stream",
     "text": [
      "c:\\users\\admin\\appdata\\local\\programs\\python\\python36\\lib\\site-packages\\pandas\\core\\internals.py:3224: FutureWarning:\n",
      "\n",
      "Passing in 'datetime64' dtype with no frequency is deprecated and will raise in a future version. Please pass in 'datetime64[ns]' instead.\n",
      "\n"
     ]
    }
   ],
   "source": [
    "from pandas import Series\n",
    "\n",
    "df['new_date_int'] = Series(df['project_submitted_datetime'], dtype='datetime64')\n",
    "df['new_date_int'] = df['new_date_int'].view('int64')"
   ]
  },
  {
   "cell_type": "markdown",
   "metadata": {},
   "source": [
    "# Label Encoder"
   ]
  },
  {
   "cell_type": "code",
   "execution_count": 15,
   "metadata": {},
   "outputs": [],
   "source": [
    "# Label encoding\n",
    "#copied\n",
    "#thanks\n",
    "#https://www.kaggle.com/jmbull/xtra-credit-xgb-lgb-w-tfidf-feature-stacking\n",
    "\n",
    "\n",
    "cols = [\n",
    "    'teacher_id', \n",
    "    'teacher_prefix', \n",
    "    'school_state', \n",
    "    'project_grade_category', \n",
    "    'project_subject_categories', \n",
    "    'project_subject_subcategories'\n",
    "]\n",
    "\n",
    "for c in (cols):\n",
    "    le = LabelEncoder()\n",
    "    le.fit(df[c].astype(str))\n",
    "    \n",
    "    df[c] = le.transform(df[c].astype(str))\n",
    "    #X_test[c] = le.transform(X_test[c].astype(str))\n",
    "    \n"
   ]
  },
  {
   "cell_type": "code",
   "execution_count": 16,
   "metadata": {},
   "outputs": [],
   "source": [
    "X = df[['teacher_id', 'teacher_prefix', 'school_state',\n",
    "      'project_grade_category',\n",
    "       'project_subject_categories', 'project_subject_subcategories',\n",
    "       'project_title', 'project_essay_1', 'project_essay_2',\n",
    "       'project_essay_3', 'project_essay_4', 'project_resource_summary',\n",
    "       'teacher_number_of_previously_posted_projects',\n",
    "       'count_1', 'count_2', 'count_3', 'count_4', 'count_s', 'new_date_int']].copy()"
   ]
  },
  {
   "cell_type": "code",
   "execution_count": 17,
   "metadata": {},
   "outputs": [],
   "source": [
    "y = df['project_is_approved'].copy()"
   ]
  },
  {
   "cell_type": "code",
   "execution_count": 18,
   "metadata": {},
   "outputs": [],
   "source": [
    "from sklearn.model_selection import train_test_split\n",
    "X_train, X_test, y_train, y_test = train_test_split(X, y, test_size=0.33, random_state=42)"
   ]
  },
  {
   "cell_type": "markdown",
   "metadata": {},
   "source": [
    "# Tfidf"
   ]
  },
  {
   "cell_type": "code",
   "execution_count": 19,
   "metadata": {},
   "outputs": [
    {
     "data": {
      "text/html": [
       "<div>\n",
       "<style>\n",
       "    .dataframe thead tr:only-child th {\n",
       "        text-align: right;\n",
       "    }\n",
       "\n",
       "    .dataframe thead th {\n",
       "        text-align: left;\n",
       "    }\n",
       "\n",
       "    .dataframe tbody tr th {\n",
       "        vertical-align: top;\n",
       "    }\n",
       "</style>\n",
       "<table border=\"1\" class=\"dataframe\">\n",
       "  <thead>\n",
       "    <tr style=\"text-align: right;\">\n",
       "      <th></th>\n",
       "      <th>teacher_id</th>\n",
       "      <th>teacher_prefix</th>\n",
       "      <th>school_state</th>\n",
       "      <th>project_grade_category</th>\n",
       "      <th>project_subject_categories</th>\n",
       "      <th>project_subject_subcategories</th>\n",
       "      <th>project_title</th>\n",
       "      <th>project_essay_1</th>\n",
       "      <th>project_essay_2</th>\n",
       "      <th>project_essay_3</th>\n",
       "      <th>project_essay_4</th>\n",
       "      <th>project_resource_summary</th>\n",
       "      <th>teacher_number_of_previously_posted_projects</th>\n",
       "      <th>count_1</th>\n",
       "      <th>count_2</th>\n",
       "      <th>count_3</th>\n",
       "      <th>count_4</th>\n",
       "      <th>count_s</th>\n",
       "      <th>new_date_int</th>\n",
       "    </tr>\n",
       "  </thead>\n",
       "  <tbody>\n",
       "    <tr>\n",
       "      <th>155536</th>\n",
       "      <td>90251</td>\n",
       "      <td>1</td>\n",
       "      <td>9</td>\n",
       "      <td>0</td>\n",
       "      <td>32</td>\n",
       "      <td>18</td>\n",
       "      <td>fifth grade want work digit world</td>\n",
       "      <td>typic day classroom imagin town center see fif...</td>\n",
       "      <td>incorpor lesson involv technolog daili class r...</td>\n",
       "      <td>unknown</td>\n",
       "      <td>unknown</td>\n",
       "      <td>My students need tech-savvy classroom for thei...</td>\n",
       "      <td>1</td>\n",
       "      <td>123</td>\n",
       "      <td>224</td>\n",
       "      <td>1</td>\n",
       "      <td>1</td>\n",
       "      <td>19</td>\n",
       "      <td>1470096000000000000</td>\n",
       "    </tr>\n",
       "  </tbody>\n",
       "</table>\n",
       "</div>"
      ],
      "text/plain": [
       "        teacher_id  teacher_prefix  school_state  project_grade_category  \\\n",
       "155536       90251               1             9                       0   \n",
       "\n",
       "        project_subject_categories  project_subject_subcategories  \\\n",
       "155536                          32                             18   \n",
       "\n",
       "                            project_title  \\\n",
       "155536  fifth grade want work digit world   \n",
       "\n",
       "                                          project_essay_1  \\\n",
       "155536  typic day classroom imagin town center see fif...   \n",
       "\n",
       "                                          project_essay_2 project_essay_3  \\\n",
       "155536  incorpor lesson involv technolog daili class r...         unknown   \n",
       "\n",
       "       project_essay_4                           project_resource_summary  \\\n",
       "155536         unknown  My students need tech-savvy classroom for thei...   \n",
       "\n",
       "        teacher_number_of_previously_posted_projects  count_1  count_2  \\\n",
       "155536                                             1      123      224   \n",
       "\n",
       "        count_3  count_4  count_s         new_date_int  \n",
       "155536        1        1       19  1470096000000000000  "
      ]
     },
     "execution_count": 19,
     "metadata": {},
     "output_type": "execute_result"
    }
   ],
   "source": [
    "X_train.sample()"
   ]
  },
  {
   "cell_type": "code",
   "execution_count": 20,
   "metadata": {},
   "outputs": [
    {
     "name": "stderr",
     "output_type": "stream",
     "text": [
      "c:\\users\\admin\\appdata\\local\\programs\\python\\python36\\lib\\site-packages\\ipykernel_launcher.py:1: SettingWithCopyWarning:\n",
      "\n",
      "\n",
      "A value is trying to be set on a copy of a slice from a DataFrame.\n",
      "Try using .loc[row_indexer,col_indexer] = value instead\n",
      "\n",
      "See the caveats in the documentation: http://pandas.pydata.org/pandas-docs/stable/indexing.html#indexing-view-versus-copy\n",
      "\n",
      "c:\\users\\admin\\appdata\\local\\programs\\python\\python36\\lib\\site-packages\\ipykernel_launcher.py:2: SettingWithCopyWarning:\n",
      "\n",
      "\n",
      "A value is trying to be set on a copy of a slice from a DataFrame.\n",
      "Try using .loc[row_indexer,col_indexer] = value instead\n",
      "\n",
      "See the caveats in the documentation: http://pandas.pydata.org/pandas-docs/stable/indexing.html#indexing-view-versus-copy\n",
      "\n",
      "c:\\users\\admin\\appdata\\local\\programs\\python\\python36\\lib\\site-packages\\ipykernel_launcher.py:4: SettingWithCopyWarning:\n",
      "\n",
      "\n",
      "A value is trying to be set on a copy of a slice from a DataFrame.\n",
      "Try using .loc[row_indexer,col_indexer] = value instead\n",
      "\n",
      "See the caveats in the documentation: http://pandas.pydata.org/pandas-docs/stable/indexing.html#indexing-view-versus-copy\n",
      "\n",
      "c:\\users\\admin\\appdata\\local\\programs\\python\\python36\\lib\\site-packages\\ipykernel_launcher.py:5: SettingWithCopyWarning:\n",
      "\n",
      "\n",
      "A value is trying to be set on a copy of a slice from a DataFrame.\n",
      "Try using .loc[row_indexer,col_indexer] = value instead\n",
      "\n",
      "See the caveats in the documentation: http://pandas.pydata.org/pandas-docs/stable/indexing.html#indexing-view-versus-copy\n",
      "\n"
     ]
    }
   ],
   "source": [
    "X_train['essay1'] = X_train['project_essay_1'] + X_train['project_essay_2']\n",
    "X_test['essay1'] = X_test['project_essay_1'] + X_test['project_essay_2']\n",
    "\n",
    "X_test['essay2'] = X_test['project_essay_3'] + X_test['project_essay_4']\n",
    "X_train['essay2'] = X_train['project_essay_3'] + X_train['project_essay_4']"
   ]
  },
  {
   "cell_type": "code",
   "execution_count": 21,
   "metadata": {},
   "outputs": [
    {
     "data": {
      "text/plain": [
       "Index(['teacher_id', 'teacher_prefix', 'school_state',\n",
       "       'project_grade_category', 'project_subject_categories',\n",
       "       'project_subject_subcategories', 'project_title', 'project_essay_1',\n",
       "       'project_essay_2', 'project_essay_3', 'project_essay_4',\n",
       "       'project_resource_summary',\n",
       "       'teacher_number_of_previously_posted_projects', 'count_1', 'count_2',\n",
       "       'count_3', 'count_4', 'count_s', 'new_date_int', 'essay1', 'essay2'],\n",
       "      dtype='object')"
      ]
     },
     "execution_count": 21,
     "metadata": {},
     "output_type": "execute_result"
    }
   ],
   "source": [
    "X_train.columns"
   ]
  },
  {
   "cell_type": "code",
   "execution_count": 22,
   "metadata": {},
   "outputs": [
    {
     "name": "stderr",
     "output_type": "stream",
     "text": [
      "c:\\users\\admin\\appdata\\local\\programs\\python\\python36\\lib\\site-packages\\ipykernel_launcher.py:2: SettingWithCopyWarning:\n",
      "\n",
      "\n",
      "A value is trying to be set on a copy of a slice from a DataFrame\n",
      "\n",
      "See the caveats in the documentation: http://pandas.pydata.org/pandas-docs/stable/indexing.html#indexing-view-versus-copy\n",
      "\n",
      "c:\\users\\admin\\appdata\\local\\programs\\python\\python36\\lib\\site-packages\\ipykernel_launcher.py:5: SettingWithCopyWarning:\n",
      "\n",
      "\n",
      "A value is trying to be set on a copy of a slice from a DataFrame\n",
      "\n",
      "See the caveats in the documentation: http://pandas.pydata.org/pandas-docs/stable/indexing.html#indexing-view-versus-copy\n",
      "\n"
     ]
    }
   ],
   "source": [
    "X_train.drop(['project_essay_1',\n",
    "       'project_essay_2', 'project_essay_3', 'project_essay_4'], axis =1, inplace = True)\n",
    "\n",
    "X_test.drop(['project_essay_1',\n",
    "       'project_essay_2', 'project_essay_3', 'project_essay_4'], axis =1,inplace = True)"
   ]
  },
  {
   "cell_type": "code",
   "execution_count": 23,
   "metadata": {},
   "outputs": [
    {
     "data": {
      "text/html": [
       "<div>\n",
       "<style>\n",
       "    .dataframe thead tr:only-child th {\n",
       "        text-align: right;\n",
       "    }\n",
       "\n",
       "    .dataframe thead th {\n",
       "        text-align: left;\n",
       "    }\n",
       "\n",
       "    .dataframe tbody tr th {\n",
       "        vertical-align: top;\n",
       "    }\n",
       "</style>\n",
       "<table border=\"1\" class=\"dataframe\">\n",
       "  <thead>\n",
       "    <tr style=\"text-align: right;\">\n",
       "      <th></th>\n",
       "      <th>teacher_id</th>\n",
       "      <th>teacher_prefix</th>\n",
       "      <th>school_state</th>\n",
       "      <th>project_grade_category</th>\n",
       "      <th>project_subject_categories</th>\n",
       "      <th>project_subject_subcategories</th>\n",
       "      <th>project_title</th>\n",
       "      <th>project_resource_summary</th>\n",
       "      <th>teacher_number_of_previously_posted_projects</th>\n",
       "      <th>count_1</th>\n",
       "      <th>count_2</th>\n",
       "      <th>count_3</th>\n",
       "      <th>count_4</th>\n",
       "      <th>count_s</th>\n",
       "      <th>new_date_int</th>\n",
       "      <th>essay1</th>\n",
       "      <th>essay2</th>\n",
       "    </tr>\n",
       "  </thead>\n",
       "  <tbody>\n",
       "    <tr>\n",
       "      <th>133473</th>\n",
       "      <td>92049</td>\n",
       "      <td>3</td>\n",
       "      <td>33</td>\n",
       "      <td>0</td>\n",
       "      <td>32</td>\n",
       "      <td>194</td>\n",
       "      <td>technolog provid potenti</td>\n",
       "      <td>My students need new, updated and unbroken tec...</td>\n",
       "      <td>0</td>\n",
       "      <td>175</td>\n",
       "      <td>151</td>\n",
       "      <td>1</td>\n",
       "      <td>1</td>\n",
       "      <td>11</td>\n",
       "      <td>1488585600000000000</td>\n",
       "      <td>teach year old probabl one challeng yet reward...</td>\n",
       "      <td>unknownunknown</td>\n",
       "    </tr>\n",
       "  </tbody>\n",
       "</table>\n",
       "</div>"
      ],
      "text/plain": [
       "        teacher_id  teacher_prefix  school_state  project_grade_category  \\\n",
       "133473       92049               3            33                       0   \n",
       "\n",
       "        project_subject_categories  project_subject_subcategories  \\\n",
       "133473                          32                            194   \n",
       "\n",
       "                   project_title  \\\n",
       "133473  technolog provid potenti   \n",
       "\n",
       "                                 project_resource_summary  \\\n",
       "133473  My students need new, updated and unbroken tec...   \n",
       "\n",
       "        teacher_number_of_previously_posted_projects  count_1  count_2  \\\n",
       "133473                                             0      175      151   \n",
       "\n",
       "        count_3  count_4  count_s         new_date_int  \\\n",
       "133473        1        1       11  1488585600000000000   \n",
       "\n",
       "                                                   essay1          essay2  \n",
       "133473  teach year old probabl one challeng yet reward...  unknownunknown  "
      ]
     },
     "execution_count": 23,
     "metadata": {},
     "output_type": "execute_result"
    }
   ],
   "source": [
    "X_train.sample()"
   ]
  },
  {
   "cell_type": "markdown",
   "metadata": {},
   "source": [
    "# Count Vectorizer"
   ]
  },
  {
   "cell_type": "code",
   "execution_count": 24,
   "metadata": {},
   "outputs": [
    {
     "data": {
      "text/html": [
       "<div>\n",
       "<style>\n",
       "    .dataframe thead tr:only-child th {\n",
       "        text-align: right;\n",
       "    }\n",
       "\n",
       "    .dataframe thead th {\n",
       "        text-align: left;\n",
       "    }\n",
       "\n",
       "    .dataframe tbody tr th {\n",
       "        vertical-align: top;\n",
       "    }\n",
       "</style>\n",
       "<table border=\"1\" class=\"dataframe\">\n",
       "  <thead>\n",
       "    <tr style=\"text-align: right;\">\n",
       "      <th></th>\n",
       "      <th>teacher_id</th>\n",
       "      <th>teacher_prefix</th>\n",
       "      <th>school_state</th>\n",
       "      <th>project_grade_category</th>\n",
       "      <th>project_subject_categories</th>\n",
       "      <th>project_subject_subcategories</th>\n",
       "      <th>project_title</th>\n",
       "      <th>project_resource_summary</th>\n",
       "      <th>teacher_number_of_previously_posted_projects</th>\n",
       "      <th>count_1</th>\n",
       "      <th>count_2</th>\n",
       "      <th>count_3</th>\n",
       "      <th>count_4</th>\n",
       "      <th>count_s</th>\n",
       "      <th>new_date_int</th>\n",
       "      <th>essay1</th>\n",
       "      <th>essay2</th>\n",
       "    </tr>\n",
       "  </thead>\n",
       "  <tbody>\n",
       "    <tr>\n",
       "      <th>165817</th>\n",
       "      <td>79966</td>\n",
       "      <td>2</td>\n",
       "      <td>10</td>\n",
       "      <td>3</td>\n",
       "      <td>32</td>\n",
       "      <td>199</td>\n",
       "      <td>chrome reflect</td>\n",
       "      <td>My students need a Chromebook to research, dev...</td>\n",
       "      <td>0</td>\n",
       "      <td>137</td>\n",
       "      <td>139</td>\n",
       "      <td>1</td>\n",
       "      <td>1</td>\n",
       "      <td>14</td>\n",
       "      <td>1477267200000000000</td>\n",
       "      <td>student eager learn enjoy type activ classroom...</td>\n",
       "      <td>unknownunknown</td>\n",
       "    </tr>\n",
       "  </tbody>\n",
       "</table>\n",
       "</div>"
      ],
      "text/plain": [
       "        teacher_id  teacher_prefix  school_state  project_grade_category  \\\n",
       "165817       79966               2            10                       3   \n",
       "\n",
       "        project_subject_categories  project_subject_subcategories  \\\n",
       "165817                          32                            199   \n",
       "\n",
       "         project_title                           project_resource_summary  \\\n",
       "165817  chrome reflect  My students need a Chromebook to research, dev...   \n",
       "\n",
       "        teacher_number_of_previously_posted_projects  count_1  count_2  \\\n",
       "165817                                             0      137      139   \n",
       "\n",
       "        count_3  count_4  count_s         new_date_int  \\\n",
       "165817        1        1       14  1477267200000000000   \n",
       "\n",
       "                                                   essay1          essay2  \n",
       "165817  student eager learn enjoy type activ classroom...  unknownunknown  "
      ]
     },
     "execution_count": 24,
     "metadata": {},
     "output_type": "execute_result"
    }
   ],
   "source": [
    "X_train.sample()"
   ]
  },
  {
   "cell_type": "code",
   "execution_count": 25,
   "metadata": {},
   "outputs": [
    {
     "data": {
      "text/plain": [
       "'\\nfor i in (data):\\n    count_vect = CountVectorizer()\\n    X_train[i] = count_vect.fit_transform(X_train[i])\\n    X_test[i] = count_vect.fit_transform(X_test[i])\\n'"
      ]
     },
     "execution_count": 25,
     "metadata": {},
     "output_type": "execute_result"
    }
   ],
   "source": [
    "from sklearn.feature_extraction.text import CountVectorizer\n",
    "count_vect = CountVectorizer()\n",
    "\n",
    "data = ['essay1', 'essay2', 'project_title','project_resource_summary',]\n",
    "'''\n",
    "for i in (data):\n",
    "    count_vect = CountVectorizer()\n",
    "    X_train[i] = count_vect.fit_transform(X_train[i])\n",
    "    X_test[i] = count_vect.fit_transform(X_test[i])\n",
    "'''"
   ]
  },
  {
   "cell_type": "code",
   "execution_count": 30,
   "metadata": {},
   "outputs": [
    {
     "data": {
      "text/html": [
       "<div>\n",
       "<style>\n",
       "    .dataframe thead tr:only-child th {\n",
       "        text-align: right;\n",
       "    }\n",
       "\n",
       "    .dataframe thead th {\n",
       "        text-align: left;\n",
       "    }\n",
       "\n",
       "    .dataframe tbody tr th {\n",
       "        vertical-align: top;\n",
       "    }\n",
       "</style>\n",
       "<table border=\"1\" class=\"dataframe\">\n",
       "  <thead>\n",
       "    <tr style=\"text-align: right;\">\n",
       "      <th></th>\n",
       "      <th>teacher_id</th>\n",
       "      <th>teacher_prefix</th>\n",
       "      <th>school_state</th>\n",
       "      <th>project_grade_category</th>\n",
       "      <th>project_subject_categories</th>\n",
       "      <th>project_subject_subcategories</th>\n",
       "      <th>project_title</th>\n",
       "      <th>project_resource_summary</th>\n",
       "      <th>teacher_number_of_previously_posted_projects</th>\n",
       "      <th>count_1</th>\n",
       "      <th>count_2</th>\n",
       "      <th>count_3</th>\n",
       "      <th>count_4</th>\n",
       "      <th>count_s</th>\n",
       "      <th>new_date_int</th>\n",
       "      <th>essay1</th>\n",
       "      <th>essay2</th>\n",
       "    </tr>\n",
       "  </thead>\n",
       "  <tbody>\n",
       "    <tr>\n",
       "      <th>62080</th>\n",
       "      <td>6869</td>\n",
       "      <td>2</td>\n",
       "      <td>27</td>\n",
       "      <td>1</td>\n",
       "      <td>32</td>\n",
       "      <td>282</td>\n",
       "      <td>solv problem use scienc</td>\n",
       "      <td>My students need t these science supplies in o...</td>\n",
       "      <td>85</td>\n",
       "      <td>148</td>\n",
       "      <td>307</td>\n",
       "      <td>1</td>\n",
       "      <td>1</td>\n",
       "      <td>23</td>\n",
       "      <td>1466899200000000000</td>\n",
       "      <td>(0, 32188)\\t0.05187802603715875\\n  (0, 26701...</td>\n",
       "      <td>unknownunknown</td>\n",
       "    </tr>\n",
       "    <tr>\n",
       "      <th>106954</th>\n",
       "      <td>77692</td>\n",
       "      <td>2</td>\n",
       "      <td>10</td>\n",
       "      <td>3</td>\n",
       "      <td>28</td>\n",
       "      <td>323</td>\n",
       "      <td>love read</td>\n",
       "      <td>My students need books for the classroom.  The...</td>\n",
       "      <td>0</td>\n",
       "      <td>103</td>\n",
       "      <td>110</td>\n",
       "      <td>1</td>\n",
       "      <td>1</td>\n",
       "      <td>28</td>\n",
       "      <td>1478476800000000000</td>\n",
       "      <td>(0, 32188)\\t0.05187802603715875\\n  (0, 26701...</td>\n",
       "      <td>unknownunknown</td>\n",
       "    </tr>\n",
       "    <tr>\n",
       "      <th>62773</th>\n",
       "      <td>58899</td>\n",
       "      <td>2</td>\n",
       "      <td>15</td>\n",
       "      <td>0</td>\n",
       "      <td>24</td>\n",
       "      <td>334</td>\n",
       "      <td>let make book</td>\n",
       "      <td>My students need a binding machine to make the...</td>\n",
       "      <td>23</td>\n",
       "      <td>121</td>\n",
       "      <td>104</td>\n",
       "      <td>1</td>\n",
       "      <td>1</td>\n",
       "      <td>13</td>\n",
       "      <td>1477699200000000000</td>\n",
       "      <td>(0, 32188)\\t0.05187802603715875\\n  (0, 26701...</td>\n",
       "      <td>unknownunknown</td>\n",
       "    </tr>\n",
       "    <tr>\n",
       "      <th>170134</th>\n",
       "      <td>76234</td>\n",
       "      <td>1</td>\n",
       "      <td>17</td>\n",
       "      <td>2</td>\n",
       "      <td>40</td>\n",
       "      <td>361</td>\n",
       "      <td>crash band boom need cymbal stand</td>\n",
       "      <td>My students need cymbal stands so we can use w...</td>\n",
       "      <td>9</td>\n",
       "      <td>146</td>\n",
       "      <td>227</td>\n",
       "      <td>1</td>\n",
       "      <td>1</td>\n",
       "      <td>18</td>\n",
       "      <td>1490832000000000000</td>\n",
       "      <td>(0, 32188)\\t0.05187802603715875\\n  (0, 26701...</td>\n",
       "      <td>unknownunknown</td>\n",
       "    </tr>\n",
       "    <tr>\n",
       "      <th>168145</th>\n",
       "      <td>49617</td>\n",
       "      <td>2</td>\n",
       "      <td>43</td>\n",
       "      <td>3</td>\n",
       "      <td>28</td>\n",
       "      <td>335</td>\n",
       "      <td>technolog classroom</td>\n",
       "      <td>My students need ipads to continue to improve ...</td>\n",
       "      <td>4</td>\n",
       "      <td>84</td>\n",
       "      <td>103</td>\n",
       "      <td>1</td>\n",
       "      <td>1</td>\n",
       "      <td>12</td>\n",
       "      <td>1488412800000000000</td>\n",
       "      <td>(0, 32188)\\t0.05187802603715875\\n  (0, 26701...</td>\n",
       "      <td>unknownunknown</td>\n",
       "    </tr>\n",
       "  </tbody>\n",
       "</table>\n",
       "</div>"
      ],
      "text/plain": [
       "        teacher_id  teacher_prefix  school_state  project_grade_category  \\\n",
       "62080         6869               2            27                       1   \n",
       "106954       77692               2            10                       3   \n",
       "62773        58899               2            15                       0   \n",
       "170134       76234               1            17                       2   \n",
       "168145       49617               2            43                       3   \n",
       "\n",
       "        project_subject_categories  project_subject_subcategories  \\\n",
       "62080                           32                            282   \n",
       "106954                          28                            323   \n",
       "62773                           24                            334   \n",
       "170134                          40                            361   \n",
       "168145                          28                            335   \n",
       "\n",
       "                            project_title  \\\n",
       "62080             solv problem use scienc   \n",
       "106954                          love read   \n",
       "62773                       let make book   \n",
       "170134  crash band boom need cymbal stand   \n",
       "168145                technolog classroom   \n",
       "\n",
       "                                 project_resource_summary  \\\n",
       "62080   My students need t these science supplies in o...   \n",
       "106954  My students need books for the classroom.  The...   \n",
       "62773   My students need a binding machine to make the...   \n",
       "170134  My students need cymbal stands so we can use w...   \n",
       "168145  My students need ipads to continue to improve ...   \n",
       "\n",
       "        teacher_number_of_previously_posted_projects  count_1  count_2  \\\n",
       "62080                                             85      148      307   \n",
       "106954                                             0      103      110   \n",
       "62773                                             23      121      104   \n",
       "170134                                             9      146      227   \n",
       "168145                                             4       84      103   \n",
       "\n",
       "        count_3  count_4  count_s         new_date_int  \\\n",
       "62080         1        1       23  1466899200000000000   \n",
       "106954        1        1       28  1478476800000000000   \n",
       "62773         1        1       13  1477699200000000000   \n",
       "170134        1        1       18  1490832000000000000   \n",
       "168145        1        1       12  1488412800000000000   \n",
       "\n",
       "                                                   essay1          essay2  \n",
       "62080     (0, 32188)\\t0.05187802603715875\\n  (0, 26701...  unknownunknown  \n",
       "106954    (0, 32188)\\t0.05187802603715875\\n  (0, 26701...  unknownunknown  \n",
       "62773     (0, 32188)\\t0.05187802603715875\\n  (0, 26701...  unknownunknown  \n",
       "170134    (0, 32188)\\t0.05187802603715875\\n  (0, 26701...  unknownunknown  \n",
       "168145    (0, 32188)\\t0.05187802603715875\\n  (0, 26701...  unknownunknown  "
      ]
     },
     "execution_count": 30,
     "metadata": {},
     "output_type": "execute_result"
    }
   ],
   "source": [
    "X_train.head()"
   ]
  },
  {
   "cell_type": "code",
   "execution_count": 31,
   "metadata": {},
   "outputs": [
    {
     "ename": "AttributeError",
     "evalue": "'Series' object has no attribute 'toarray'",
     "output_type": "error",
     "traceback": [
      "\u001b[1;31m---------------------------------------------------------------------------\u001b[0m",
      "\u001b[1;31mAttributeError\u001b[0m                            Traceback (most recent call last)",
      "\u001b[1;32m<ipython-input-31-ea0cdfc46718>\u001b[0m in \u001b[0;36m<module>\u001b[1;34m()\u001b[0m\n\u001b[1;32m----> 1\u001b[1;33m \u001b[0mX_train\u001b[0m\u001b[1;33m[\u001b[0m\u001b[1;34m'essay1'\u001b[0m\u001b[1;33m]\u001b[0m\u001b[1;33m.\u001b[0m\u001b[0mtoarray\u001b[0m\u001b[1;33m(\u001b[0m\u001b[1;33m)\u001b[0m\u001b[1;33m\u001b[0m\u001b[0m\n\u001b[0m",
      "\u001b[1;32mc:\\users\\admin\\appdata\\local\\programs\\python\\python36\\lib\\site-packages\\pandas\\core\\generic.py\u001b[0m in \u001b[0;36m__getattr__\u001b[1;34m(self, name)\u001b[0m\n\u001b[0;32m   3079\u001b[0m             \u001b[1;32mif\u001b[0m \u001b[0mname\u001b[0m \u001b[1;32min\u001b[0m \u001b[0mself\u001b[0m\u001b[1;33m.\u001b[0m\u001b[0m_info_axis\u001b[0m\u001b[1;33m:\u001b[0m\u001b[1;33m\u001b[0m\u001b[0m\n\u001b[0;32m   3080\u001b[0m                 \u001b[1;32mreturn\u001b[0m \u001b[0mself\u001b[0m\u001b[1;33m[\u001b[0m\u001b[0mname\u001b[0m\u001b[1;33m]\u001b[0m\u001b[1;33m\u001b[0m\u001b[0m\n\u001b[1;32m-> 3081\u001b[1;33m             \u001b[1;32mreturn\u001b[0m \u001b[0mobject\u001b[0m\u001b[1;33m.\u001b[0m\u001b[0m__getattribute__\u001b[0m\u001b[1;33m(\u001b[0m\u001b[0mself\u001b[0m\u001b[1;33m,\u001b[0m \u001b[0mname\u001b[0m\u001b[1;33m)\u001b[0m\u001b[1;33m\u001b[0m\u001b[0m\n\u001b[0m\u001b[0;32m   3082\u001b[0m \u001b[1;33m\u001b[0m\u001b[0m\n\u001b[0;32m   3083\u001b[0m     \u001b[1;32mdef\u001b[0m \u001b[0m__setattr__\u001b[0m\u001b[1;33m(\u001b[0m\u001b[0mself\u001b[0m\u001b[1;33m,\u001b[0m \u001b[0mname\u001b[0m\u001b[1;33m,\u001b[0m \u001b[0mvalue\u001b[0m\u001b[1;33m)\u001b[0m\u001b[1;33m:\u001b[0m\u001b[1;33m\u001b[0m\u001b[0m\n",
      "\u001b[1;31mAttributeError\u001b[0m: 'Series' object has no attribute 'toarray'"
     ]
    }
   ],
   "source": [
    "X_train['essay1'].toarray()"
   ]
  },
  {
   "cell_type": "code",
   "execution_count": null,
   "metadata": {},
   "outputs": [],
   "source": []
  }
 ],
 "metadata": {
  "kernelspec": {
   "display_name": "Python 3",
   "language": "python",
   "name": "python3"
  },
  "language_info": {
   "codemirror_mode": {
    "name": "ipython",
    "version": 3
   },
   "file_extension": ".py",
   "mimetype": "text/x-python",
   "name": "python",
   "nbconvert_exporter": "python",
   "pygments_lexer": "ipython3",
   "version": "3.6.2"
  }
 },
 "nbformat": 4,
 "nbformat_minor": 2
}
