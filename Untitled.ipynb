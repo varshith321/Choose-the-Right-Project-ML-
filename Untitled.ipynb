{
 "cells": [
  {
   "cell_type": "code",
   "execution_count": null,
   "metadata": {},
   "outputs": [],
   "source": [
    "model =Sequential()\n",
    "model.add(LSTM(units=100,return_sequences=True,input_shape=(P_train.shape[1], 1)))\n",
    "model.add(Dropout(0.4))\n",
    "#model.add(activation = 'relu')\n",
    "\n",
    "model.add(LSTM(units=100,return_sequences=True))\n",
    "model.add(Dropout(0.6))\n",
    "\n",
    "model.add(LSTM(units=100,return_sequences=True))\n",
    "model.add(Dropout(0.6))\n",
    "\n",
    "model.add(LSTM(units=100,return_sequences=True))\n",
    "model.add(Dropout(0.4))\n",
    "\n",
    "model.add(LSTM(units=100))\n",
    "model.add(Dropout(0.4))\n",
    "\n",
    "model.add(Dense(units=1))\n",
    "\n",
    "model.compile(optimizer='adam',loss='mean_squared_error',metrics=['accuracy'])\n",
    "\n",
    "#model.fit(X_train,y_train,epochs=40,batch_size=32)\n",
    "model.fit(P_train, y_train, validation_data=(P_test,y_test), epochs=40, batch_size=10)"
   ]
  }
 ],
 "metadata": {
  "kernelspec": {
   "display_name": "Python 3",
   "language": "python",
   "name": "python3"
  },
  "language_info": {
   "codemirror_mode": {
    "name": "ipython",
    "version": 3
   },
   "file_extension": ".py",
   "mimetype": "text/x-python",
   "name": "python",
   "nbconvert_exporter": "python",
   "pygments_lexer": "ipython3",
   "version": "3.6.2"
  }
 },
 "nbformat": 4,
 "nbformat_minor": 2
}
